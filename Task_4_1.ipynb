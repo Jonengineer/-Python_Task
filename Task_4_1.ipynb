{
 "cells": [
  {
   "cell_type": "code",
   "execution_count": 304,
   "id": "874f22be",
   "metadata": {},
   "outputs": [],
   "source": [
    "#перечень всех документов\n",
    "documents = [\n",
    "    {'type': 'passport', 'number': '2207 876234', 'name': 'Василий Гупкин'},\n",
    "    {'type': 'invoice', 'number': '11-2', 'name': 'Геннадий Покемонов'},\n",
    "    {'type': 'insurance', 'number': '10006', 'name': 'Аристарх Павлов'}\n",
    "]\n",
    "\n",
    "#перечень полок, на которых хранятся документы (если документ есть в documents, то он обязательно должен быть и в directories)\n",
    "directories = {\n",
    "    '1': ['2207 876234', '11-2'],\n",
    "    '2': ['10006'],\n",
    "    '3': []\n",
    "}"
   ]
  },
  {
   "cell_type": "code",
   "execution_count": 303,
   "id": "7fa7d97d",
   "metadata": {},
   "outputs": [],
   "source": [
    "#Общая функция п.1, 2, 3, 4, 5\n",
    "def function_document():\n",
    "    while True:\n",
    "        number_id = input('Введите команду: ')\n",
    "        if number_id == 'q':\n",
    "            break\n",
    "        elif number_id in ['p', 's']:\n",
    "            if number_id == 'p':\n",
    "                owner_document = owner_document_function()             \n",
    "            elif number_id == 's':\n",
    "                number_folder = number_folder_function()                                           \n",
    "        elif number_id == 'l':    \n",
    "            full_information = full_information_function()            \n",
    "        elif number_id == 'ads':    \n",
    "            add_document = add_document_function()            \n",
    "        elif number_id == 'ds':    \n",
    "            del_document = del_document_function()                   \n",
    "        else:        \n",
    "            print ('Ошибка. Неверная команда. Для продолжения работы введите: p, s, l, ads, ds')"
   ]
  },
  {
   "cell_type": "code",
   "execution_count": 302,
   "id": "e88fd434",
   "metadata": {},
   "outputs": [],
   "source": [
    "#вывод значений для пункта№ 1\n",
    "def owner_document_function():\n",
    "    number_document = input('Введите номер документа: ')\n",
    "    if not number_document:\n",
    "        print('Ошибка! Не введен номер документа')\n",
    "    elif not any(number_document == number_check['number'] for number_check in documents):\n",
    "        print('Ошибка! Номер документа не найден')\n",
    "    else:\n",
    "        for name_document in documents:\n",
    "            if name_document['number'] == number_document:\n",
    "                return name_document['name']\n",
    "    return None"
   ]
  },
  {
   "cell_type": "code",
   "execution_count": 301,
   "id": "3142e527",
   "metadata": {},
   "outputs": [],
   "source": [
    "#вывод значений для пункта№ 2\n",
    "def number_folder_function():\n",
    "    number_document = input('Введите номер документа: ')\n",
    "    if not number_document:\n",
    "        print('Ошибка! Не введен номер документа')\n",
    "    elif not any(number_document == number_check['number'] for number_check in documents):\n",
    "        print('Ошибка! Номер документа не найден')\n",
    "    else:\n",
    "        for key, values in directories.items():\n",
    "            if number_document in values:\n",
    "                print(key)\n",
    "    return None"
   ]
  },
  {
   "cell_type": "code",
   "execution_count": 300,
   "id": "b579d19e",
   "metadata": {},
   "outputs": [],
   "source": [
    "#вывод значений для пункта№ 3\n",
    "def full_information_function():\n",
    "    for key, values in directories.items():\n",
    "        for full_information_S in documents:\n",
    "            if full_information_S['number'] in values:\n",
    "                full_information_S['полка хранения:'] = key          \n",
    "                print(f\"№: {full_information_S['number']}, тип: {full_information_S['type']}, владелец: {full_information_S['name']}, полка хранения: {key}\")\n",
    "    return None                "
   ]
  },
  {
   "cell_type": "code",
   "execution_count": 299,
   "id": "bd4a8614",
   "metadata": {},
   "outputs": [],
   "source": [
    "#Проверка номера документа\n",
    "def check_number_document():\n",
    "    number_document = input('Введите номер документа: ')\n",
    "    if not number_document:\n",
    "        print('Ошибка! Не введен номер документа')\n",
    "    elif not any(number_document == number_check['number'] for number_check in documents):\n",
    "        print('Ошибка! Номер документа не найден')\n",
    "    else:\n",
    "        return number_document    "
   ]
  },
  {
   "cell_type": "code",
   "execution_count": 298,
   "id": "89105c84",
   "metadata": {
    "scrolled": true
   },
   "outputs": [],
   "source": [
    "#Добавление нового номера полки\n",
    "def add_document_function():\n",
    "    key = input('Введите номер полки: ')\n",
    "    if key in directories.keys():\n",
    "        result_string = ', '.join(directories.keys())\n",
    "        print(f'Такая полка уже существует. Текущий перечень полок: {result_string}.')\n",
    "    else:\n",
    "        directories[key] = []\n",
    "        result_string = ', '.join(directories.keys())\n",
    "        print(f'Полка добавлена. Текущий перечень полок: {result_string}.')"
   ]
  },
  {
   "cell_type": "code",
   "execution_count": 297,
   "id": "89731d38",
   "metadata": {},
   "outputs": [],
   "source": [
    "#Удаление номера полки с пустым значением\n",
    "def del_document_function():\n",
    "    key = input('Введите номер полки: ')\n",
    "    if key  not in directories.keys():\n",
    "        result_string = ', '.join(directories.keys())\n",
    "        print(f'Такой полки не существует. Текущий перечень полок: {result_string}.')\n",
    "    elif directories[key]:\n",
    "        print(f'На полке есть документы. Удалите их перед удалением полки. Текущий перечень полок: {list(directories.keys())}.')\n",
    "    else:\n",
    "        del directories[key]\n",
    "        result_string = ', '.join(directories.keys())\n",
    "        print(f'Полка удалена.. Текущий перечень полок: {result_string}.')"
   ]
  },
  {
   "cell_type": "code",
   "execution_count": null,
   "id": "f26eeadb",
   "metadata": {},
   "outputs": [],
   "source": [
    "function_document()"
   ]
  }
 ],
 "metadata": {
  "kernelspec": {
   "display_name": "Python 3 (ipykernel)",
   "language": "python",
   "name": "python3"
  },
  "language_info": {
   "codemirror_mode": {
    "name": "ipython",
    "version": 3
   },
   "file_extension": ".py",
   "mimetype": "text/x-python",
   "name": "python",
   "nbconvert_exporter": "python",
   "pygments_lexer": "ipython3",
   "version": "3.11.2"
  }
 },
 "nbformat": 4,
 "nbformat_minor": 5
}
