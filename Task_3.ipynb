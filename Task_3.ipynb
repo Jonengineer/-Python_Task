{
 "cells": [
  {
   "cell_type": "code",
   "execution_count": 73,
   "id": "3104bf08",
   "metadata": {},
   "outputs": [
    {
     "name": "stdout",
     "output_type": "stream",
     "text": [
      "Результат: {98, 35, 15, 213, 54, 119}\n"
     ]
    }
   ],
   "source": [
    "#Задание № 1\n",
    "ids = {'user1': [213, 213, 213, 15, 213], \n",
    "       'user2': [54, 54, 119, 119, 119], \n",
    "       'user3': [213, 98, 98, 35]}\n",
    "users = set(sum(list(ids.values()), []))\n",
    "print(f'Результат: {users}')"
   ]
  },
  {
   "cell_type": "code",
   "execution_count": 46,
   "id": "c0472398",
   "metadata": {},
   "outputs": [
    {
     "name": "stdout",
     "output_type": "stream",
     "text": [
      "Поисковых запросов, содержащих 2 слов(а): 42.86 %\n",
      "Поисковых запросов, содержащих 3 слов(а): 57.14 %\n"
     ]
    }
   ],
   "source": [
    "#Задание № 2\n",
    "queries = [\n",
    "    'смотреть сериалы онлайн',\n",
    "    'новости спорта',\n",
    "    'афиша кино',\n",
    "    'курс доллара',\n",
    "    'сериалы этим летом',\n",
    "    'курс по питону',\n",
    "    'сериалы про спорт',\n",
    "    \n",
    "]\n",
    "\n",
    "words_total = len(queries)\n",
    "words_2 = sum(words_id.count(' ') == 1 for words_id in queries)\n",
    "words_3 = sum(words_id.count(' ') == 2 for words_id in queries)\n",
    "\n",
    "print(f\"Поисковых запросов, содержащих 2 слов(а): {round(100*words_2/words_total, 2)} %\")\n",
    "print(f\"Поисковых запросов, содержащих 3 слов(а): {round(100*words_3/words_total, 2)} %\")"
   ]
  },
  {
   "cell_type": "code",
   "execution_count": 209,
   "id": "140aafea",
   "metadata": {},
   "outputs": [
    {
     "name": "stdout",
     "output_type": "stream",
     "text": [
      "Результат:\n",
      "\n",
      "vk: {'revenue': 103, 'cost': 98, 'ROI': 5.1}\n",
      "yandex: {'revenue': 179, 'cost': 153, 'ROI': 16.99}\n",
      "facebook: {'revenue': 103, 'cost': 110, 'ROI': -6.36}\n",
      "adwords: {'revenue': 35, 'cost': 34, 'ROI': 2.94}\n",
      "twitter: {'revenue': 11, 'cost': 24, 'ROI': -54.17}\n"
     ]
    }
   ],
   "source": [
    "#Задание № 3\n",
    "results = {\n",
    "    'vk': {'revenue': 103, 'cost': 98},\n",
    "    'yandex': {'revenue': 179, 'cost': 153},\n",
    "    'facebook': {'revenue': 103, 'cost': 110},\n",
    "    'adwords': {'revenue': 35, 'cost': 34},\n",
    "    'twitter': {'revenue': 11, 'cost': 24},\n",
    "}\n",
    "print('Результат:')\n",
    "print()\n",
    "for key, value in results.items():\n",
    "    results[key]['ROI'] = round((value['revenue']/value['cost']-1)*100, 2)\n",
    "    print(f'{key}: {value}')\n"
   ]
  },
  {
   "cell_type": "code",
   "execution_count": 246,
   "id": "0bdce738",
   "metadata": {},
   "outputs": [
    {
     "name": "stdout",
     "output_type": "stream",
     "text": [
      "Максимальный объем продаж на рекламном канале: vk\n"
     ]
    }
   ],
   "source": [
    "#Задание № 4\n",
    "stats = {'facebook': 55, 'yandex': 115, 'vk': 120, 'google': 99, 'email': 42, 'ok': 98}\n",
    "\n",
    "for status_keys, status_values in stats.items():\n",
    "    if  status_values == max(stats.values()):\n",
    "        print(f'Максимальный объем продаж на рекламном канале: {status_keys}')"
   ]
  },
  {
   "cell_type": "code",
   "execution_count": null,
   "id": "62349cdb",
   "metadata": {},
   "outputs": [],
   "source": []
  }
 ],
 "metadata": {
  "kernelspec": {
   "display_name": "Python 3 (ipykernel)",
   "language": "python",
   "name": "python3"
  },
  "language_info": {
   "codemirror_mode": {
    "name": "ipython",
    "version": 3
   },
   "file_extension": ".py",
   "mimetype": "text/x-python",
   "name": "python",
   "nbconvert_exporter": "python",
   "pygments_lexer": "ipython3",
   "version": "3.11.2"
  }
 },
 "nbformat": 4,
 "nbformat_minor": 5
}
