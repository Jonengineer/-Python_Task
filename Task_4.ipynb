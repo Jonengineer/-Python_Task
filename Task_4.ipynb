{
 "cells": [
  {
   "cell_type": "code",
   "execution_count": 107,
   "id": "874f22be",
   "metadata": {},
   "outputs": [],
   "source": [
    "#перечень всех документов\n",
    "documents = [\n",
    "    {'type': 'passport', 'number': '2207 876234', 'name': 'Василий Гупкин'},\n",
    "    {'type': 'invoice', 'number': '11-2', 'name': 'Геннадий Покемонов'},\n",
    "    {'type': 'insurance', 'number': '10006', 'name': 'Аристарх Павлов'}\n",
    "]\n",
    "\n",
    "#перечень полок, на которых хранятся документы (если документ есть в documents, то он обязательно должен быть и в directories)\n",
    "directories = {\n",
    "    '1': ['2207 876234', '11-2'],\n",
    "    '2': ['10006'],\n",
    "    '3': []\n",
    "}"
   ]
  },
  {
   "cell_type": "code",
   "execution_count": 146,
   "id": "7fa7d97d",
   "metadata": {},
   "outputs": [],
   "source": [
    "#Общая функция п.1, 2, 3, 4, 5\n",
    "def function_document():\n",
    "    number_id = input('Введите команду: ')\n",
    "    while number_id != 'q':\n",
    "        if number_id in ['p', 's']:\n",
    "            number_document = check_number_document()\n",
    "            if number_id == 'p':\n",
    "                for name_document in documents:\n",
    "                    if name_document['number'] == number_document:\n",
    "                        return name_document['name']\n",
    "            elif number_id == 's':\n",
    "                for key, values in directories.items():\n",
    "                    if number_document in values:\n",
    "                        print(key)                   \n",
    "        elif number_id == 'l':    \n",
    "            full_information = full_information_function()\n",
    "            print(full_information)\n",
    "        elif number_id == 'ads':    \n",
    "            add_document = add_document_function()\n",
    "            print(add_document)\n",
    "        elif number_id == 'ds':    \n",
    "            del_document = del_document_function()\n",
    "            print(del_document)            \n",
    "        else:        \n",
    "            print ('Ошибка. Неверная команда. Для продолжения работы введите: p, s, l, ads, ds')\n",
    "        return None"
   ]
  },
  {
   "cell_type": "code",
   "execution_count": 148,
   "id": "b579d19e",
   "metadata": {},
   "outputs": [],
   "source": [
    "#вывод значений для пункта№ 3\n",
    "def full_information_function():\n",
    "    for key, values in directories.items():\n",
    "        for values_documents in values:\n",
    "            for full_information_S in documents:\n",
    "                if full_information_S['number'] == values_documents:\n",
    "                    full_information_S['полка хранения:'] = key          \n",
    "                    print(f\"№: {full_information_S['number']}, тип: {full_information_S['type']}, владелец: {full_information_S['name']}, полка хранения: {key}\")"
   ]
  },
  {
   "cell_type": "code",
   "execution_count": 149,
   "id": "bd4a8614",
   "metadata": {},
   "outputs": [],
   "source": [
    "#Проверка номера документа\n",
    "def check_number_document():\n",
    "    number_document = input('Введите номер документа: ')\n",
    "    if not number_document:\n",
    "        print('Ошибка! Не введен номер документа')\n",
    "    elif not any(number_document in number_check['number'] for number_check in documents):\n",
    "        print('Ошибка! Номер документа не найден')\n",
    "    else:\n",
    "        return number_document    "
   ]
  },
  {
   "cell_type": "code",
   "execution_count": 150,
   "id": "89105c84",
   "metadata": {
    "scrolled": true
   },
   "outputs": [],
   "source": [
    "#Добавление нового номера полки\n",
    "def add_document_function():\n",
    "    key = input('Введите номер полки: ')\n",
    "    if key in directories.keys():\n",
    "        print(f'Такая полка уже существует. Текущий перечень полок: {list(directories.keys())}.')\n",
    "    else:\n",
    "        directories[key] = None\n",
    "        print(f'Полка добавлена. Текущий перечень полок: {list(directories.keys())}.')"
   ]
  },
  {
   "cell_type": "code",
   "execution_count": 151,
   "id": "89731d38",
   "metadata": {},
   "outputs": [],
   "source": [
    "#Удаление номера полки с пустымзначением\n",
    "def del_document_function():\n",
    "    key = input('Введите номер полки: ')\n",
    "    if key  not in directories.keys():\n",
    "        print(f'Такой полки не существует. Текущий перечень полок: {list(directories.keys())}.')\n",
    "    elif directories[key]:\n",
    "        print(f'На полке есть документы. Удалите их перед удалением полки. Текущий перечень полок: {list(directories.keys())}.')\n",
    "    else:\n",
    "        del directories[key]\n",
    "        print(f'Полка удалена.. Текущий перечень полок: {list(directories.keys())}.')"
   ]
  },
  {
   "cell_type": "code",
   "execution_count": null,
   "id": "d510d411",
   "metadata": {},
   "outputs": [],
   "source": [
    "function_document()"
   ]
  }
 ],
 "metadata": {
  "kernelspec": {
   "display_name": "Python 3 (ipykernel)",
   "language": "python",
   "name": "python3"
  },
  "language_info": {
   "codemirror_mode": {
    "name": "ipython",
    "version": 3
   },
   "file_extension": ".py",
   "mimetype": "text/x-python",
   "name": "python",
   "nbconvert_exporter": "python",
   "pygments_lexer": "ipython3",
   "version": "3.11.2"
  }
 },
 "nbformat": 4,
 "nbformat_minor": 5
}
