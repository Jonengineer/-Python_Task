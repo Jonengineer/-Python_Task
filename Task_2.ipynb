{
 "cells": [
  {
   "cell_type": "code",
   "execution_count": 3,
   "id": "75552c28",
   "metadata": {},
   "outputs": [
    {
     "name": "stdout",
     "output_type": "stream",
     "text": [
      "Введите слово привет\n",
      "ив\n"
     ]
    }
   ],
   "source": [
    "# Задача № 1\n",
    "word = input('Введите слово ')\n",
    "middle = int(len(word) / 2)\n",
    "\n",
    "if len(word) % 2 == 0:\n",
    "    middle_index = word[middle -1 : middle + 1]\n",
    "    print(middle_index)\n",
    "else:\n",
    "    middle_index = word[middle]\n",
    "    print(middle_index)\n"
   ]
  },
  {
   "cell_type": "code",
   "execution_count": 11,
   "id": "00313279",
   "metadata": {},
   "outputs": [
    {
     "name": "stdout",
     "output_type": "stream",
     "text": [
      "Введите число 12\n",
      "Введите число 12\n",
      "Введите число 12\n",
      "Введите число 0\n",
      "Результат:  36\n"
     ]
    }
   ],
   "source": [
    "# Задача № 2\n",
    "total = 0\n",
    "number = 1\n",
    "while number != 0:\n",
    "        number = int(input('Введите число '))\n",
    "        total += number \n",
    "print('Результат: ', total)"
   ]
  },
  {
   "cell_type": "code",
   "execution_count": 48,
   "id": "1f98bd6a",
   "metadata": {},
   "outputs": [
    {
     "name": "stdout",
     "output_type": "stream",
     "text": [
      "Идеальные пары:\n",
      "Alex и Emma\n",
      "Arthur и Inna\n",
      "John и Kate\n",
      "Michael и Kira\n",
      "Peter и Liza\n",
      "Richard и Trisha\n"
     ]
    }
   ],
   "source": [
    "# Задача № 3\n",
    "boys = ['Peter', 'Alex', 'John', 'Arthur', 'Richard', 'Michael']\n",
    "girls = ['Kate', 'Liza', 'Kira', 'Emma', 'Trisha', 'Inna' ]\n",
    "\n",
    "boys_sort = sorted(boys)\n",
    "girls_sort = sorted(girls)\n",
    "\n",
    "if len(boys_sort) == len(girls_sort):\n",
    "    print('Идеальные пары:')\n",
    "    for pare in zip(boys_sort, girls_sort):\n",
    "        print(pare[0], 'и', pare[1])\n",
    "else:\n",
    "    print('Внимание, кто-то может остаться без пары!')"
   ]
  },
  {
   "cell_type": "code",
   "execution_count": 113,
   "id": "ccf7af49",
   "metadata": {},
   "outputs": [
    {
     "name": "stdout",
     "output_type": "stream",
     "text": [
      "Средняя температура в стране: \n",
      "Таиланд 23.9 C\n",
      "Германия 13.8 C\n",
      "Россия 3.7 C\n",
      "Польша 12.0 C\n"
     ]
    }
   ],
   "source": [
    "# Задача № 4\n",
    "countries_temperature = [\n",
    "    ['Таиланд', [75.2, 77, 78.8, 73.4, 68, 75.2, 77]],\n",
    "    ['Германия', [57.2, 55.4, 59, 59, 53.6]],\n",
    "    ['Россия', [35.6, 37.4, 39.2, 41, 42.8, 39.2, 35.6]],\n",
    "    ['Польша', [50, 50, 53.6, 57.2, 55.4, 55.4]]    \n",
    "]\n",
    "print('Средняя температура в стране: ')\n",
    "for country_temp in countries_temperature:\n",
    "    country = country_temp[0]\n",
    "    temperatures = country_temp[1]\n",
    "    total = round((sum(temperatures) / len(temperatures) - 32) * 5/9, 1)\n",
    "    print(country, total,  'C')"
   ]
  },
  {
   "cell_type": "code",
   "execution_count": 1,
   "id": "4fe46970",
   "metadata": {},
   "outputs": [
    {
     "name": "stdout",
     "output_type": "stream",
     "text": [
      "Номер А222ВС валиден. Регион: 96\n",
      "Номер А2223ВC193 не валиден\n",
      "Номер А2223ВC193 не валиден\n"
     ]
    }
   ],
   "source": [
    "# Задача № 5\n",
    "import re\n",
    "\n",
    "car_ids = ['А222ВС96', 'А2223ВC193', 'А2223ВC193']\n",
    "for car_id in car_ids:\n",
    "    res = re.search(r'(^\\w{1}\\d{3}\\w{2})(\\d{2,3})$', car_id)\n",
    "    if res:\n",
    "        print(f\"Номер {res.group(1)} валиден. Регион: {res.group(2)}\")\n",
    "    else:\n",
    "        print('Номер', car_id, 'не валиден')"
   ]
  },
  {
   "cell_type": "code",
   "execution_count": 33,
   "id": "6c9deb22",
   "metadata": {},
   "outputs": [
    {
     "name": "stdout",
     "output_type": "stream",
     "text": [
      "Результат: 127.33333333333333\n"
     ]
    }
   ],
   "source": [
    "import re\n",
    "\n",
    "stream = [\n",
    "    'user100,2022-01-01;150',\n",
    "    'user99,2022-01-07;205',\n",
    "    'user1001,2022-03-29;27'\n",
    "]\n",
    "\n",
    "total_count = 0\n",
    "users = []\n",
    "for stream_id in stream:\n",
    "    count_user = re.search(r'(^(\\w+),\\d{4}-\\d{2}-\\d{2};)(\\d+$)', stream_id)\n",
    "    if count_user:\n",
    "        user_id = count_user.group(2)\n",
    "        count_fin = float(count_user.group(3))\n",
    "        total_count += count_fin\n",
    "        if user_id not in users:\n",
    "            users.append(user_id)      \n",
    "avg_count = total_count / len(users)\n",
    "print(f\"Результат: {avg_count}\")"
   ]
  },
  {
   "cell_type": "code",
   "execution_count": 46,
   "id": "aaf35b19",
   "metadata": {},
   "outputs": [
    {
     "name": "stdout",
     "output_type": "stream",
     "text": [
      "ИТ\n"
     ]
    }
   ],
   "source": [
    "import re\n",
    "\n",
    "some_words = 'Информационные технологии'\n",
    "def acronym(some_words):\n",
    "    words = re.sub(r'(\\w)\\w*\\s*', r'\\1',  some_words)\n",
    "    return words.upper()\n",
    "print(acronym(some_words))"
   ]
  }
 ],
 "metadata": {
  "kernelspec": {
   "display_name": "Python 3 (ipykernel)",
   "language": "python",
   "name": "python3"
  },
  "language_info": {
   "codemirror_mode": {
    "name": "ipython",
    "version": 3
   },
   "file_extension": ".py",
   "mimetype": "text/x-python",
   "name": "python",
   "nbconvert_exporter": "python",
   "pygments_lexer": "ipython3",
   "version": "3.11.2"
  }
 },
 "nbformat": 4,
 "nbformat_minor": 5
}
