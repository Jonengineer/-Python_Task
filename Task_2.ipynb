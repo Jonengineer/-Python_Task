{
 "cells": [
  {
   "cell_type": "code",
   "execution_count": 17,
   "id": "75552c28",
   "metadata": {},
   "outputs": [
    {
     "name": "stdout",
     "output_type": "stream",
     "text": [
      "Введите словоtesting\n",
      "t\n"
     ]
    }
   ],
   "source": [
    "# Задача № 1\n",
    "word = input('Введите слово')\n",
    "middle = int(len(word) / 2)\n",
    "\n",
    "if len(word) % 2 == 0:\n",
    "    middle_index = word[middle -1 : middle + 1]\n",
    "    print(middle_index)\n",
    "else:\n",
    "    middle_index = word[middle]\n",
    "    print(middle_index)\n"
   ]
  },
  {
   "cell_type": "code",
   "execution_count": null,
   "id": "00313279",
   "metadata": {},
   "outputs": [],
   "source": [
    "# Задача № 2"
   ]
  }
 ],
 "metadata": {
  "kernelspec": {
   "display_name": "Python 3 (ipykernel)",
   "language": "python",
   "name": "python3"
  },
  "language_info": {
   "codemirror_mode": {
    "name": "ipython",
    "version": 3
   },
   "file_extension": ".py",
   "mimetype": "text/x-python",
   "name": "python",
   "nbconvert_exporter": "python",
   "pygments_lexer": "ipython3",
   "version": "3.11.2"
  }
 },
 "nbformat": 4,
 "nbformat_minor": 5
}
