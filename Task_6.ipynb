{
 "cells": [
  {
   "cell_type": "code",
   "execution_count": 5,
   "id": "3f44910e",
   "metadata": {},
   "outputs": [
    {
     "name": "stdout",
     "output_type": "stream",
     "text": [
      "2002-10-02 00:00:00\n",
      "2013-10-11 00:00:00\n",
      "1977-08-18 00:00:00\n"
     ]
    }
   ],
   "source": [
    "#Задача № 1\n",
    "from datetime import datetime\n",
    "\n",
    "date_string1 = 'Wednesday, October 2, 2002'\n",
    "date_format1 = '%A, %B %d, %Y'\n",
    "date_string2 = 'Friday, 11.10.13'\n",
    "date_format2 = '%A, %d.%m.%y'\n",
    "date_string3 = 'Thursday, 18 August 1977'\n",
    "date_format3 = '%A, %d %B %Y'\n",
    "\n",
    "date_object1 = datetime.strptime(date_string1, date_format1)\n",
    "date_object2 = datetime.strptime(date_string2, date_format2)\n",
    "date_object3 = datetime.strptime(date_string3, date_format3)\n",
    "\n",
    "print(date_object1)\n",
    "print(date_object2)\n",
    "print(date_object3)"
   ]
  },
  {
   "cell_type": "code",
   "execution_count": 10,
   "id": "d83a7996",
   "metadata": {},
   "outputs": [
    {
     "name": "stdout",
     "output_type": "stream",
     "text": [
      "True\n",
      "False\n",
      "False\n"
     ]
    }
   ],
   "source": [
    "#Задача № 2\n",
    "from datetime import datetime\n",
    "stream = ['2018-04-02', '2018-02-29', '2018-19-02']\n",
    "\n",
    "def correct_data(date_string):\n",
    "    try:\n",
    "        datetime.strptime(date_string, '%Y-%m-%d')\n",
    "        return True\n",
    "    except ValueError:\n",
    "        return False\n",
    "for date_string in stream:\n",
    "    print(correct_data(date_string))"
   ]
  },
  {
   "cell_type": "code",
   "execution_count": 12,
   "id": "4ce6b58d",
   "metadata": {},
   "outputs": [],
   "source": [
    "#Задача № 3\n",
    "from datetime import datetime, timedelta\n",
    "\n",
    "def date_range(start_date, end_date):\n",
    "    date_format = '%Y-%m-%d'\n",
    "\n",
    "    #Сначала переводим строки start_date и end_date в объекты datetime с помощью функции datetime.strptime(). \n",
    "    #Если формат дат неверен, то возникает исключение ValueError, и функция возвращает пустой список.\n",
    "    #Если start_datetime > end_datetime то функция возвращает пустой список\n",
    "    try:\n",
    "        start_datetime = datetime.strptime(start_date, date_format)\n",
    "        end_datetime = datetime.strptime(end_date, date_format)\n",
    "        if start_datetime > end_datetime:\n",
    "            return []\n",
    "    except ValueError:\n",
    "        return []\n",
    "    \n",
    "    #Создаем пустой список date_string \n",
    "    #Создаем цикл while которые работает пока значение current_datetime не станет больше end_datetime. \n",
    "    #В каждой итерации цикла мы преобразуем текущую дату в строку и добавляем ее в список date_string \n",
    "    #Затем значение current_datetime увеличиваем на один день\n",
    "\n",
    "    date_string = []\n",
    "    current_datetime = start_datetime\n",
    "    while current_datetime <= end_datetime:\n",
    "        date_string.append(current_datetime.strftime(date_format))\n",
    "        current_datetime += timedelta(days=1)\n",
    "    \n",
    "    return date_string"
   ]
  },
  {
   "cell_type": "code",
   "execution_count": 15,
   "id": "a5486697",
   "metadata": {},
   "outputs": [
    {
     "data": {
      "text/plain": [
       "['2022-01-01',\n",
       " '2022-01-02',\n",
       " '2022-01-03',\n",
       " '2022-01-04',\n",
       " '2022-01-05',\n",
       " '2022-01-06',\n",
       " '2022-01-07',\n",
       " '2022-01-08',\n",
       " '2022-01-09',\n",
       " '2022-01-10',\n",
       " '2022-01-11',\n",
       " '2022-01-12',\n",
       " '2022-01-13',\n",
       " '2022-01-14',\n",
       " '2022-01-15',\n",
       " '2022-01-16',\n",
       " '2022-01-17',\n",
       " '2022-01-18',\n",
       " '2022-01-19',\n",
       " '2022-01-20']"
      ]
     },
     "execution_count": 15,
     "metadata": {},
     "output_type": "execute_result"
    }
   ],
   "source": [
    "date_range('2022-01-01', '2022-01-20')"
   ]
  }
 ],
 "metadata": {
  "kernelspec": {
   "display_name": "Python 3 (ipykernel)",
   "language": "python",
   "name": "python3"
  },
  "language_info": {
   "codemirror_mode": {
    "name": "ipython",
    "version": 3
   },
   "file_extension": ".py",
   "mimetype": "text/x-python",
   "name": "python",
   "nbconvert_exporter": "python",
   "pygments_lexer": "ipython3",
   "version": "3.11.2"
  }
 },
 "nbformat": 4,
 "nbformat_minor": 5
}
