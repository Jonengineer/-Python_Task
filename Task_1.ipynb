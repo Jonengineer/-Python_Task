{
 "cells": [
  {
   "cell_type": "code",
   "execution_count": 5,
   "id": "f36fbcf9",
   "metadata": {},
   "outputs": [
    {
     "name": "stdout",
     "output_type": "stream",
     "text": [
      "Фраза 1 длиннее фразы 2\n"
     ]
    }
   ],
   "source": [
    "phrase_1 = 'Насколько проще было бы писать программы, если бы не заказчики'\n",
    "phrase_2 = '640Кб должно хватить для любых задач. Билл Гейтс (по легенде)'\n",
    "\n",
    "if len(phrase_1) > len(phrase_2):\n",
    "    print('Фраза 1 длиннее фразы 2')\n",
    "elif len(phrase_1) == len(phrase_2):\n",
    "    print('Фразы равной длины')\n",
    "else:\n",
    "    print('Фраза 2 длиннее фразы 1')\n"
   ]
  },
  {
   "cell_type": "code",
   "execution_count": null,
   "id": "3a2c5dfd",
   "metadata": {},
   "outputs": [],
   "source": [
    "year = 2019\n",
    "\n",
    "if year % 4 == 0 and (year % 100 != 0 or year % 400 == 0):\n",
    "    print('Високосный год')\n",
    "else:\n",
    "    print('Обычный год')"
   ]
  },
  {
   "cell_type": "code",
   "execution_count": null,
   "id": "72e1498e",
   "metadata": {},
   "outputs": [],
   "source": [
    "day = int(input('Введите день'))\n",
    "month = input('Введите месяц')\n",
    "\n",
    "if (month == 'Январь' and day >= 20) or (month == 'Февраль' and day <= 18):\n",
    "    print('Ваш знак зодиака: Водолей')\n",
    "elif (month == 'Февраль' and day >= 19) or (month == 'Март' and day <= 20):\n",
    "    print('Ваш знак зодиака: Рыбы')\n",
    "elif (month == 'Март' and day >= 21) or (month == 'Апрель' and day <= 19):\n",
    "    print('Ваш знак зодиака: Овен') \n",
    "elif (month == 'Апрель' and day >= 20) or (month == 'Май' and day <= 20):\n",
    "    print('Ваш знак зодиака: Телец')\n",
    "elif (month == 'Май' and day >= 21) or (month == 'Июнь' and day <= 21):\n",
    "    print('Ваш знак зодиака: Близнецы')\n",
    "elif (month == 'Июнь' and day >= 22) or (month == 'Июль' and day <= 22):\n",
    "    print('Ваш знак зодиака: Рак')\n",
    "elif (month == 'Июль' and day >= 23) or (month == 'Август' and day <= 22):\n",
    "    print('Ваш знак зодиака: Лев')\n",
    "elif (month == 'Август' and day >= 23) or (month == 'Сентябрь' and day <= 22):\n",
    "    print('Ваш знак зодиака: Дева')\n",
    "elif (month == 'Сентябрь' and day >= 23) or (month == 'Октябрь' and day <= 22):\n",
    "    print('Ваш знак зодиака: Весы')\n",
    "elif (month == 'Октябрь' and day >= 23) or (month == 'Ноябрь' and day <= 21):\n",
    "    print('Ваш знак зодиака: Скорпион')\n",
    "elif (month == 'Ноябрь' and day >= 22) or (month == 'Декабрь' and day <= 21):\n",
    "     print('Ваш знак зодиака: Стрелец')\n",
    "elif (month == 'Декабрь' and day >= 22) or (month == 'Январь' and day <= 19):\n",
    "    print('Ваш знак зодиака: Козерог')"
   ]
  },
  {
   "cell_type": "code",
   "execution_count": null,
   "id": "63255539",
   "metadata": {},
   "outputs": [],
   "source": [
    "width = int(input('Введите ширину в см '))\n",
    "length = int(input('Введите длину в см '))\n",
    "height = int(input('Введите высоту в см '))\n",
    "\n",
    "if width <= 15 and length <= 15 and height <= 15:\n",
    "    print('Коробка №1')\n",
    "elif width > 200 or length > 200 or height > 200:\n",
    "    print('Упаковка для лыж')\n",
    "elif 15 < width < 50 or 15 < length < 50 or 15 < height < 50:\n",
    "    print('Коробка №2')\n",
    "else:\n",
    "    print('Коробка №3')"
   ]
  },
  {
   "cell_type": "code",
   "execution_count": 1,
   "id": "06480932",
   "metadata": {},
   "outputs": [
    {
     "name": "stdout",
     "output_type": "stream",
     "text": [
      "Введите номер проездного билета234567\n",
      "Несчастливый билет\n"
     ]
    }
   ],
   "source": [
    "number = int(input('Введите номер проездного билета'))\n",
    "number_1 = number // 100000\n",
    "number_2 = number // 10000 % 10\n",
    "number_3 = number // 1000 % 10\n",
    "number_4 = number // 100 % 10\n",
    "number_5 = number // 10 % 10\n",
    "number_6 = number // 1 % 10\n",
    "\n",
    "if number_1 + number_2 + number_3 == number_4 + number_5 + number_6:\n",
    "   print('Счастливый билет')\n",
    "else:\n",
    "    print('Несчастливый билет')\n"
   ]
  },
  {
   "cell_type": "code",
   "execution_count": null,
   "id": "4acc9d74",
   "metadata": {},
   "outputs": [],
   "source": [
    "type_figure = input('Введите тип фигуры: ')\n",
    "\n",
    "if type_figure == 'Круг':\n",
    "    radius = float(input('Введите радиус: '))\n",
    "    square = 3.14 * radius ** 2\n",
    "    print(f'Площадь круга: {square:.2f}')\n",
    "if type_figure == 'Треугольник':\n",
    "    hight = float(input('Введите высоту треугальника : '))\n",
    "    side = float(input('Введите сторону треугальника : '))\n",
    "    square = 0.5 * hight * side\n",
    "    print(f'Площадь треугольника: {square:.2f}')\n",
    "if type_figure == 'Прямоугольник':\n",
    "    side_1 = float(input('Введите сторону прямоугольника : '))\n",
    "    side_2 = float(input('Введите сторону прямоугольника : '))\n",
    "    square = side_1 * side_2\n",
    "    print(f'Площадь треугольника: {square:.2f}')\n",
    "else:\n",
    "    print('Некорректный тип фигуры')\n",
    "    \n",
    "\n",
    "\n",
    "\n",
    "\n"
   ]
  }
 ],
 "metadata": {
  "kernelspec": {
   "display_name": "Python 3 (ipykernel)",
   "language": "python",
   "name": "python3"
  },
  "language_info": {
   "codemirror_mode": {
    "name": "ipython",
    "version": 3
   },
   "file_extension": ".py",
   "mimetype": "text/x-python",
   "name": "python",
   "nbconvert_exporter": "python",
   "pygments_lexer": "ipython3",
   "version": "3.11.2"
  }
 },
 "nbformat": 4,
 "nbformat_minor": 5
}
